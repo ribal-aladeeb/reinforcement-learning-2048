{
 "cells": [
  {
   "cell_type": "code",
   "execution_count": 15,
   "metadata": {},
   "outputs": [],
   "source": [
    "import numpy as np\n",
    "import matplotlib.pyplot as plt\n",
    "import pickle\n",
    "from notebook_utils import load_pickle\n",
    "import datetime\n",
    "import pandas as pd\n",
    "import os"
   ]
  },
  {
   "cell_type": "markdown",
   "metadata": {},
   "source": [
    "#### PLEASE MAKE SURE YOU USE PYTHON 3.8 >="
   ]
  },
  {
   "cell_type": "code",
   "execution_count": 16,
   "metadata": {},
   "outputs": [
    {
     "name": "stdout",
     "output_type": "stream",
     "text": [
      "0 dense\n",
      "1 e1\n",
      "2 e2-cont\n",
      "3 e2-cont2\n",
      "4 e2-no-eps-to-epsilon-2000\n",
      "5 e3-no-episodes-to-epsilon-50\n",
      "6 e4-training-occurs-earlier-target-updated-less\n",
      "7 e5-small-epsilon\n",
      "8 e6-small-epsilon-lr-1e-3\n",
      "9 e7-small-epsilon-lr-1e-4\n",
      "10 e8\n",
      "11 e9\n",
      "12 Experiment 1\n",
      "13 Experiment 2\n",
      "14 Experiment 3\n",
      "15 Experiment 4\n",
      "16 Experiment 5\n",
      "17 exp_1_2017932854049984256\n",
      "18 random_baseline\n",
      "19 test-run-conv\n",
      "20 upleft_baseline\n"
     ]
    }
   ],
   "source": [
    "jobs = list(filter(lambda x: x not in ['.ipynb_checkpoints', 'experiment_analysis.ipynb', '__pycache__', 'notebook_utils.py', 'strategy_analysis.ipynb'], os.listdir()))\n",
    "\n",
    "'''Your jobs are'''\n",
    "for j, job in enumerate(jobs):\n",
    "    print(j,job)"
   ]
  },
  {
   "cell_type": "code",
   "execution_count": 17,
   "metadata": {},
   "outputs": [
    {
     "ename": "FileNotFoundError",
     "evalue": "[Errno 2] No such file or directory: 'upleft_baseline/binary/episodes.p'",
     "output_type": "error",
     "traceback": [
      "\u001b[1;31m---------------------------------------------------------------------------\u001b[0m",
      "\u001b[1;31mFileNotFoundError\u001b[0m                         Traceback (most recent call last)",
      "\u001b[1;32m<ipython-input-17-b6a485610bb2>\u001b[0m in \u001b[0;36m<module>\u001b[1;34m\u001b[0m\n\u001b[0;32m      1\u001b[0m \u001b[0mjob_name\u001b[0m \u001b[1;33m=\u001b[0m \u001b[0mjobs\u001b[0m\u001b[1;33m[\u001b[0m\u001b[1;36m20\u001b[0m\u001b[1;33m]\u001b[0m\u001b[1;33m\u001b[0m\u001b[1;33m\u001b[0m\u001b[0m\n\u001b[0;32m      2\u001b[0m \u001b[1;31m# Load episode data, hyper parameters and runtime from saved pickle objects\u001b[0m\u001b[1;33m\u001b[0m\u001b[1;33m\u001b[0m\u001b[1;33m\u001b[0m\u001b[0m\n\u001b[1;32m----> 3\u001b[1;33m \u001b[0mepisodes\u001b[0m \u001b[1;33m=\u001b[0m \u001b[0mload_pickle\u001b[0m\u001b[1;33m(\u001b[0m\u001b[0mjob_name\u001b[0m\u001b[1;33m,\u001b[0m \u001b[1;34m'episodes.p'\u001b[0m\u001b[1;33m)\u001b[0m\u001b[1;33m\u001b[0m\u001b[1;33m\u001b[0m\u001b[0m\n\u001b[0m\u001b[0;32m      4\u001b[0m \u001b[0mhyperparameters\u001b[0m \u001b[1;33m=\u001b[0m \u001b[0mload_pickle\u001b[0m\u001b[1;33m(\u001b[0m\u001b[0mjob_name\u001b[0m\u001b[1;33m,\u001b[0m \u001b[1;34m'hyperparameters.p'\u001b[0m\u001b[1;33m)\u001b[0m\u001b[1;33m\u001b[0m\u001b[1;33m\u001b[0m\u001b[0m\n\u001b[0;32m      5\u001b[0m \u001b[0mruntime\u001b[0m \u001b[1;33m=\u001b[0m \u001b[0mload_pickle\u001b[0m\u001b[1;33m(\u001b[0m\u001b[0mjob_name\u001b[0m\u001b[1;33m,\u001b[0m \u001b[1;34m'runtime.p'\u001b[0m\u001b[1;33m)\u001b[0m\u001b[1;33m\u001b[0m\u001b[1;33m\u001b[0m\u001b[0m\n",
      "\u001b[1;32m~\\dev\\reinforcement-learning-2048\\experiments\\notebook_utils.py\u001b[0m in \u001b[0;36mload_pickle\u001b[1;34m(job_name, fn)\u001b[0m\n\u001b[0;32m      8\u001b[0m \u001b[1;33m\u001b[0m\u001b[0m\n\u001b[0;32m      9\u001b[0m \u001b[1;32mdef\u001b[0m \u001b[0mload_pickle\u001b[0m\u001b[1;33m(\u001b[0m\u001b[0mjob_name\u001b[0m\u001b[1;33m,\u001b[0m \u001b[0mfn\u001b[0m\u001b[1;33m)\u001b[0m\u001b[1;33m:\u001b[0m\u001b[1;33m\u001b[0m\u001b[1;33m\u001b[0m\u001b[0m\n\u001b[1;32m---> 10\u001b[1;33m     \u001b[1;32mwith\u001b[0m \u001b[0mopen\u001b[0m\u001b[1;33m(\u001b[0m\u001b[1;34mf'{job_name}/binary/{fn}'\u001b[0m\u001b[1;33m,\u001b[0m \u001b[1;34m'rb'\u001b[0m\u001b[1;33m)\u001b[0m \u001b[1;32mas\u001b[0m \u001b[0mtarget\u001b[0m\u001b[1;33m:\u001b[0m\u001b[1;33m\u001b[0m\u001b[1;33m\u001b[0m\u001b[0m\n\u001b[0m\u001b[0;32m     11\u001b[0m         \u001b[0mobj\u001b[0m \u001b[1;33m=\u001b[0m \u001b[0mpickle\u001b[0m\u001b[1;33m.\u001b[0m\u001b[0mload\u001b[0m\u001b[1;33m(\u001b[0m\u001b[0mtarget\u001b[0m\u001b[1;33m)\u001b[0m\u001b[1;33m\u001b[0m\u001b[1;33m\u001b[0m\u001b[0m\n\u001b[0;32m     12\u001b[0m         \u001b[1;32mreturn\u001b[0m \u001b[0mobj\u001b[0m\u001b[1;33m\u001b[0m\u001b[1;33m\u001b[0m\u001b[0m\n",
      "\u001b[1;31mFileNotFoundError\u001b[0m: [Errno 2] No such file or directory: 'upleft_baseline/binary/episodes.p'"
     ]
    }
   ],
   "source": [
    "job_name = jobs[20]\n",
    "# Load episode data, hyper parameters and runtime from saved pickle objects\n",
    "episodes = load_pickle(job_name, 'episodes.p')\n",
    "hyperparameters = load_pickle(job_name, 'hyperparameters.p')\n",
    "runtime = load_pickle(job_name, 'runtime.p')\n",
    "\n",
    "# Load episodes into Pandas df and convert to numpy array to facilitate plotting\n",
    "# [{'max_tile': 32, 'merge_score': 376, 'number': 0, 'reward': 1, 'epsilon': 1.0, 'number_moves': 67}, ...]\n",
    "# array([[ 32., 376.,   0.,   1.,   1.,  67.], ...])\n",
    "episode_matrix = pd.DataFrame(episodes).values \n",
    "\n",
    "print(f\"{job_name} ran for {datetime.timedelta(seconds=runtime)},  {len(episodes)} episodes\\n\")\n",
    "\n",
    "'''Print Hyperparameters'''\n",
    "print(\"Hyper parameters\")\n",
    "for key in hyperparameters:\n",
    "    print(key, \"=\", hyperparameters[key])"
   ]
  },
  {
   "cell_type": "code",
   "execution_count": 18,
   "metadata": {},
   "outputs": [
    {
     "ename": "NameError",
     "evalue": "name 'episode_matrix' is not defined",
     "output_type": "error",
     "traceback": [
      "\u001b[1;31m---------------------------------------------------------------------------\u001b[0m",
      "\u001b[1;31mNameError\u001b[0m                                 Traceback (most recent call last)",
      "\u001b[1;32m<ipython-input-18-0717c6fa1986>\u001b[0m in \u001b[0;36m<module>\u001b[1;34m\u001b[0m\n\u001b[0;32m      4\u001b[0m \u001b[1;33m\u001b[0m\u001b[0m\n\u001b[0;32m      5\u001b[0m \u001b[1;32mtry\u001b[0m\u001b[1;33m:\u001b[0m\u001b[1;33m\u001b[0m\u001b[1;33m\u001b[0m\u001b[0m\n\u001b[1;32m----> 6\u001b[1;33m     \u001b[0mmax_tiles\u001b[0m \u001b[1;33m=\u001b[0m \u001b[0mepisode_matrix\u001b[0m\u001b[1;33m.\u001b[0m\u001b[0mT\u001b[0m\u001b[1;33m[\u001b[0m\u001b[1;36m0\u001b[0m\u001b[1;33m]\u001b[0m\u001b[1;33m\u001b[0m\u001b[1;33m\u001b[0m\u001b[0m\n\u001b[0m\u001b[0;32m      7\u001b[0m     \u001b[0mmerge_scores\u001b[0m \u001b[1;33m=\u001b[0m \u001b[0mepisode_matrix\u001b[0m\u001b[1;33m.\u001b[0m\u001b[0mT\u001b[0m\u001b[1;33m[\u001b[0m\u001b[1;36m1\u001b[0m\u001b[1;33m]\u001b[0m\u001b[1;33m\u001b[0m\u001b[1;33m\u001b[0m\u001b[0m\n\u001b[0;32m      8\u001b[0m     \u001b[0miteration\u001b[0m \u001b[1;33m=\u001b[0m \u001b[0mepisode_matrix\u001b[0m\u001b[1;33m.\u001b[0m\u001b[0mT\u001b[0m\u001b[1;33m[\u001b[0m\u001b[1;36m2\u001b[0m\u001b[1;33m]\u001b[0m\u001b[1;33m\u001b[0m\u001b[1;33m\u001b[0m\u001b[0m\n",
      "\u001b[1;31mNameError\u001b[0m: name 'episode_matrix' is not defined"
     ]
    }
   ],
   "source": [
    "# [{'max_tile': 32, 'merge_score': 376, 'number': 0, 'reward': 1, 'epsilon': 1.0, 'number_moves': 67}, ...]\n",
    "# array([[ 32., 376.,   0.,   1.,   1.,  67.], ...])\n",
    "s = 5\n",
    "\n",
    "try:\n",
    "    max_tiles = episode_matrix.T[0]\n",
    "    merge_scores = episode_matrix.T[1]\n",
    "    iteration = episode_matrix.T[2]\n",
    "    rewards = episode_matrix.T[3]\n",
    "    epsilon = episode_matrix.T[4]\n",
    "    q_values = episode_matrix.T[5]\n",
    "    number_of_moves = episode_matrix.T[6]\n",
    "except IndexError:\n",
    "    max_tiles = episode_matrix.T[0]\n",
    "    merge_scores = episode_matrix.T[1]\n",
    "    iteration = episode_matrix.T[2]\n",
    "    rewards = episode_matrix.T[3]\n",
    "    epsilon = episode_matrix.T[4]\n",
    "    number_of_moves = episode_matrix.T[5]\n",
    "\n",
    "fig = plt.figure(figsize=(25,15))\n",
    "\n",
    "ax1 = fig.add_subplot(221)\n",
    "ax2 = fig.add_subplot(222)\n",
    "ax3 = fig.add_subplot(223)\n",
    "ax4 = fig.add_subplot(224)\n",
    "\n",
    "# ax1.set_yscale('log', base=2)\n",
    "ax2.set_yscale('log', base=2)\n",
    "\n",
    "title = \"Deep Q Learning Agent playing 2048\"\n",
    "if hyperparameters['use_double_dqn']:\n",
    "    title = \"Double \" + title\n",
    "fig.suptitle(title, fontsize=16)\n",
    "\n",
    "\n",
    "ax1.scatter(iteration, merge_scores, s=s)\n",
    "ax1.set_title(\"Merge Score\")\n",
    "ax1.set_ylabel(\"Merge Score (log2 scale)\")\n",
    "ax1.set_xlabel(\"Number of Episodes\")\n",
    "ax1.axvline(x=hyperparameters[\"no_episodes_to_reach_epsilon\"], c='r', label=f\"No. eps b4 epsilon = {hyperparameters['min_epsilon']}\")\n",
    "ax1.axvline(x=hyperparameters[\"no_episodes_before_training\"], c='g', label=\"No. eps b4 training\")\n",
    "ax1.legend()\n",
    "\n",
    "ax2.scatter(iteration, max_tiles, s=s)\n",
    "ax2.set_title(\"Max Tiles\")\n",
    "ax2.set_ylabel(\"Max Tile (log2 scale)\")\n",
    "ax2.set_xlabel(\"Number of Episodes\")\n",
    "\n",
    "ax3.scatter(iteration, rewards)\n",
    "ax3.set_title(\"Rewards\")\n",
    "ax3.set_ylabel(\"Reward at episode\")\n",
    "ax3.set_xlabel(\"Number of Episodes\")\n",
    "\n",
    "ax4.scatter(iteration, number_of_moves, s=s)\n",
    "ax4.set_title(\"Number of Moves performed\")\n",
    "ax4.set_ylabel(\"Number of Moves performed\")\n",
    "ax4.axvline(x=hyperparameters[\"no_episodes_to_reach_epsilon\"], c='r', label=f\"No. eps b4 epsilon = {hyperparameters['min_epsilon']}\")\n",
    "ax4.axvline(x=hyperparameters[\"no_episodes_before_training\"], c='g', label=\"No. eps b4 training\")\n",
    "ax4.legend()\n",
    "ax4.set_xlabel(\"Number of Episodes\")\n",
    "\n",
    "plt.show()"
   ]
  },
  {
   "cell_type": "code",
   "execution_count": 19,
   "metadata": {},
   "outputs": [
    {
     "ename": "NameError",
     "evalue": "name 'max_tiles' is not defined",
     "output_type": "error",
     "traceback": [
      "\u001b[1;31m---------------------------------------------------------------------------\u001b[0m",
      "\u001b[1;31mNameError\u001b[0m                                 Traceback (most recent call last)",
      "\u001b[1;32m<ipython-input-19-52d5bdb3eb73>\u001b[0m in \u001b[0;36m<module>\u001b[1;34m\u001b[0m\n\u001b[0;32m     17\u001b[0m \u001b[1;33m\u001b[0m\u001b[0m\n\u001b[0;32m     18\u001b[0m \u001b[1;33m\u001b[0m\u001b[0m\n\u001b[1;32m---> 19\u001b[1;33m \u001b[0mmax_tile_frequency\u001b[0m \u001b[1;33m=\u001b[0m \u001b[0mget_max_tile_frequency\u001b[0m\u001b[1;33m(\u001b[0m\u001b[0mmax_tiles\u001b[0m\u001b[1;33m[\u001b[0m\u001b[1;33m:\u001b[0m\u001b[1;33m]\u001b[0m\u001b[1;33m)\u001b[0m\u001b[1;33m\u001b[0m\u001b[1;33m\u001b[0m\u001b[0m\n\u001b[0m\u001b[0;32m     20\u001b[0m \u001b[1;33m\u001b[0m\u001b[0m\n\u001b[0;32m     21\u001b[0m \u001b[0mplot_max_tile_distribution\u001b[0m\u001b[1;33m(\u001b[0m\u001b[0mmax_tile_frequency\u001b[0m\u001b[1;33m,\u001b[0m \u001b[0mbase_ax\u001b[0m\u001b[1;33m)\u001b[0m\u001b[1;33m\u001b[0m\u001b[1;33m\u001b[0m\u001b[0m\n",
      "\u001b[1;31mNameError\u001b[0m: name 'max_tiles' is not defined"
     ]
    },
    {
     "data": {
      "image/png": "[encoded data removed]",
      "text/plain": [
       "<Figure size 720x432 with 1 Axes>"
      ]
     },
     "metadata": {
      "needs_background": "light"
     },
     "output_type": "display_data"
    }
   ],
   "source": [
    "def get_max_tile_frequency(max_tiles_array):\n",
    "    max_tile_frequency = np.array(np.unique(max_tiles_array, return_counts=True), dtype=int)\n",
    "    return max_tile_frequency\n",
    "\n",
    "def plot_max_tile_distribution(max_tile_frequency, ax, include_labels=True):\n",
    "    barwidth= 0.8\n",
    "    ax.bar(np.arange(len(max_tile_frequency[0])) , max_tile_frequency[1], barwidth, color=\"pink\")\n",
    "    ax.set_xticks(np.arange(len(max_tile_frequency[1]))+barwidth/2.)\n",
    "    ax.set_xticklabels(max_tile_frequency[0])\n",
    "    if include_labels:\n",
    "        ax.set_xlabel(\"Tiles Reached\")\n",
    "        ax.set_ylabel(\"Frequency\")\n",
    "\n",
    "fig = plt.figure(figsize=(10,6))\n",
    "fig.suptitle(\"Max Tile Frequency Distribution\")\n",
    "base_ax = fig.add_subplot(211)\n",
    "\n",
    "\n",
    "max_tile_frequency = get_max_tile_frequency(max_tiles[:])\n",
    "\n",
    "plot_max_tile_distribution(max_tile_frequency, base_ax)\n",
    "max_tile_frequency"
   ]
  },
  {
   "cell_type": "markdown",
   "metadata": {},
   "source": [
    "# Analysis of trained agents playing the game"
   ]
  },
  {
   "cell_type": "markdown",
   "metadata": {},
   "source": [
    "#### Below are the models which have had an agent play the game"
   ]
  },
  {
   "cell_type": "code",
   "execution_count": 23,
   "metadata": {},
   "outputs": [
    {
     "data": {
      "text/plain": [
       "142"
      ]
     },
     "execution_count": 23,
     "metadata": {},
     "output_type": "execute_result"
    }
   ],
   "source": [
    "played_models = [exp for exp in jobs if os.path.isfile(os.path.join(exp,'binary/games_played.p'))]\n",
    "played_models\n",
    "played_models\n",
    "\n",
    "games_played = load_pickle(job_name, 'games_played.p')\n",
    "len(games_played)\n",
    "len(games_played[0])"
   ]
  }
 ],
 "metadata": {
  "kernelspec": {
   "display_name": "Python 3",
   "language": "python",
   "name": "python3"
  },
  "language_info": {
   "codemirror_mode": {
    "name": "ipython",
    "version": 3
   },
   "file_extension": ".py",
   "mimetype": "text/x-python",
   "name": "python",
   "nbconvert_exporter": "python",
   "pygments_lexer": "ipython3",
   "version": "3.8.6"
  }
 },
 "nbformat": 4,
 "nbformat_minor": 4
}
