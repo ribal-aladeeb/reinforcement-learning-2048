{
 "cells": [
  {
   "cell_type": "code",
   "execution_count": 13,
   "metadata": {},
   "outputs": [],
   "source": [
    "from IPython.display import display, clear_output\n",
    "from notebook_utils import load_pickle\n",
    "import os\n",
    "import time"
   ]
  },
  {
   "cell_type": "code",
   "execution_count": 15,
   "metadata": {},
   "outputs": [
    {
     "name": "stdout",
     "output_type": "stream",
     "text": [
      "['dense', 'e1', 'e2-cont', 'e2-cont2', 'e2-no-eps-to-epsilon-2000', 'e3-no-episodes-to-epsilon-50', 'e4-training-occurs-earlier-target-updated-less', 'e5-small-epsilon', 'e6-small-epsilon-lr-1e-3', 'e7-small-epsilon-lr-1e-4', 'e8', 'e9', 'Experiment 1', 'Experiment 2', 'Experiment 3', 'Experiment 4', 'Experiment 5', 'exp_1_393905355991763200', 'exp_2_914485232672149760', 'exp_3_237510587463639552', 'notebook_utils.py', 'random_baseline', 'strategy_analysis.ipynb', 'test-razine', 'test-run-conv', 'test-sss', 'Untitled.ipynb', 'untitled.txt', 'upleft_baseline']\n"
     ]
    }
   ],
   "source": [
    "jobs = list(filter(lambda x: x not in ['.ipynb_checkpoints', 'experiment_analysis.ipynb', '__pycache__', 'notebook_utils'], os.listdir()))\n",
    "print(jobs)\n",
    "job_name = \"e2-cont2\" # jobs[1]\n",
    "game = load_pickle(job_name, 'board_histories/episode_9500.p')"
   ]
  },
  {
   "cell_type": "code",
   "execution_count": 16,
   "metadata": {},
   "outputs": [
    {
     "data": {
      "text/plain": [
       "array([[64,  8, 64, 16],\n",
       "       [ 2, 64, 16,  4],\n",
       "       [32,  8,  4,  0],\n",
       "       [ 4,  0,  0,  2]])"
      ]
     },
     "metadata": {},
     "output_type": "display_data"
    },
    {
     "data": {
      "text/plain": [
       "'Action to play: u'"
      ]
     },
     "metadata": {},
     "output_type": "display_data"
    },
    {
     "data": {
      "text/plain": [
       "'Reward earned for action: 0'"
      ]
     },
     "metadata": {},
     "output_type": "display_data"
    },
    {
     "name": "stdin",
     "output_type": "stream",
     "text": [
      " \n"
     ]
    }
   ],
   "source": [
    "for i in range(100):\n",
    "    display(game[i][0])\n",
    "    display(f\"Action to play: {game[i][1]}\")\n",
    "    display(f\"Reward earned for action: {game[i][2]}\")\n",
    "    input(\"\")\n",
    "    clear_output(wait=True)\n"
   ]
  },
  {
   "cell_type": "code",
   "execution_count": null,
   "metadata": {},
   "outputs": [],
   "source": []
  }
 ],
 "metadata": {
  "kernelspec": {
   "display_name": "Python 3",
   "language": "python",
   "name": "python3"
  },
  "language_info": {
   "codemirror_mode": {
    "name": "ipython",
    "version": 3
   },
   "file_extension": ".py",
   "mimetype": "text/x-python",
   "name": "python",
   "nbconvert_exporter": "python",
   "pygments_lexer": "ipython3",
   "version": "3.8.6"
  }
 },
 "nbformat": 4,
 "nbformat_minor": 4
}
